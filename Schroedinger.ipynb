{
 "cells": [
  {
   "cell_type": "code",
   "execution_count": null,
   "metadata": {},
   "outputs": [
    {
     "ename": "ModuleNotFoundError",
     "evalue": "No module named 'task1.py'; 'task1' is not a package",
     "output_type": "error",
     "traceback": [
      "\u001b[1;31m---------------------------------------------------------------------------\u001b[0m",
      "\u001b[1;31mModuleNotFoundError\u001b[0m                       Traceback (most recent call last)",
      "Input \u001b[1;32mIn [2]\u001b[0m, in \u001b[0;36m<cell line: 3>\u001b[1;34m()\u001b[0m\n\u001b[0;32m      1\u001b[0m \u001b[38;5;28;01mimport\u001b[39;00m \u001b[38;5;21;01mnumpy\u001b[39;00m \u001b[38;5;28;01mas\u001b[39;00m \u001b[38;5;21;01mnp\u001b[39;00m\n\u001b[0;32m      2\u001b[0m \u001b[38;5;28;01mimport\u001b[39;00m \u001b[38;5;21;01mmatplotlib\u001b[39;00m\u001b[38;5;21;01m.\u001b[39;00m\u001b[38;5;21;01mpyplot\u001b[39;00m \u001b[38;5;28;01mas\u001b[39;00m \u001b[38;5;21;01mplt\u001b[39;00m\n\u001b[1;32m----> 3\u001b[0m \u001b[38;5;28;01mimport\u001b[39;00m \u001b[38;5;21;01mtask1\u001b[39;00m\u001b[38;5;21;01m.\u001b[39;00m\u001b[38;5;21;01mpy\u001b[39;00m\n",
      "\u001b[1;31mModuleNotFoundError\u001b[0m: No module named 'task1.py'; 'task1' is not a package"
     ]
    }
   ],
   "source": [
    "import numpy as np\n",
    "import matplotlib.pyplot as plt\n",
    "import task1"
   ]
  },
  {
   "cell_type": "code",
   "execution_count": 10,
   "metadata": {},
   "outputs": [
    {
     "name": "stdout",
     "output_type": "stream",
     "text": [
      "-1e-05 -4.934802200544679\n",
      "-1e-05 -19.739208802178716\n",
      "-1e-05 -44.41321980490211\n",
      "-1e-05 -78.95683520871486\n",
      "-1e-05 -123.37005501361698\n",
      "Energy level step 1: -6.0390e-01 J\n",
      "Energy level step 2: -6.0390e-01 J\n",
      "Energy level step 3: -6.0390e-01 J\n",
      "Energy level step 4: -6.0390e-01 J\n",
      "Energy level step 5: -6.0390e-01 J\n"
     ]
    },
    {
     "name": "stderr",
     "output_type": "stream",
     "text": [
      "C:\\Users\\belco\\AppData\\Local\\Temp\\ipykernel_10436\\957682658.py:3: RuntimeWarning: invalid value encountered in sqrt\n",
      "  return (1/np.tan(np.sqrt(2 * L**2 * V0 * (1 + E/V0)))) - np.sqrt((-V0/E) - 1)\n"
     ]
    }
   ],
   "source": [
    "def potential_energy_levels(L, V0, m, hbar, num_levels):\n",
    "    def equation(E):\n",
    "        return (1/np.tan(np.sqrt(2 * L**2 * V0 * (1 + E/V0)))) - np.sqrt((-V0/E) - 1) \n",
    "\n",
    "    energy_levels = []\n",
    "    \n",
    "    # initial guess\n",
    "    for n in range(1, num_levels + 1):\n",
    "        # bounds\n",
    "        E_low = -n**2 * (hbar**2 * np.pi**2) / (2 * m * L**2)  # Lower bound by infinite well\n",
    "        E_high = - 1e-5  # Upper bound just below the potential well, not correct for any precision\n",
    "        print(E_high, E_low)\n",
    "        \n",
    "        # Bisection method\n",
    "        while E_high - E_low > 1e-6:  #precision\n",
    "            E_mid = (E_low + E_high) / 2\n",
    "            if equation(E_low) * equation(E_mid) < 0:\n",
    "                E_high = E_mid\n",
    "            else:\n",
    "                E_low = E_mid\n",
    "\n",
    "        energy_levels.append((E_low + E_high) / 2)\n",
    "\n",
    "    return energy_levels\n",
    "\n",
    "def wave_function(x, L, n, E, m, hbar):\n",
    "    k = np.sqrt(2 * m * E) / hbar\n",
    "    return np.sqrt(2 / L) * np.sin(n * np.pi * x / L)\n",
    "\n",
    "# Parameters\n",
    "L = 1.0         # Width  (meters)\n",
    "V0 = 1.0      # Height  (Joules)\n",
    "m = 1   # (kg)\n",
    "hbar = 1 #  (Js)\n",
    "num_levels = 5  # Number of level\n",
    "\n",
    "# Find energy levels\n",
    "energy_levels = potential_energy_levels(L, V0, m, hbar, num_levels)\n",
    "\n",
    "# Print results\n",
    "for i, E in enumerate(energy_levels):\n",
    "    print(f\"Energy level step {i + 1}: {E:.4e} J\")"
   ]
  },
  {
   "cell_type": "code",
   "execution_count": 11,
   "metadata": {},
   "outputs": [
    {
     "data": {
      "text/plain": [
       "'насколько выходит на конст, и по х'"
      ]
     },
     "execution_count": 11,
     "metadata": {},
     "output_type": "execute_result"
    }
   ],
   "source": [
    "\"\"\"насколько выходит на конст, и по х\"\"\""
   ]
  },
  {
   "cell_type": "code",
   "execution_count": 6,
   "metadata": {},
   "outputs": [
    {
     "ename": "NameError",
     "evalue": "name 'x' is not defined",
     "output_type": "error",
     "traceback": [
      "\u001b[1;31m---------------------------------------------------------------------------\u001b[0m",
      "\u001b[1;31mNameError\u001b[0m                                 Traceback (most recent call last)",
      "Input \u001b[1;32mIn [6]\u001b[0m, in \u001b[0;36m<cell line: 2>\u001b[1;34m()\u001b[0m\n\u001b[0;32m      1\u001b[0m \u001b[38;5;66;03m# Plot potential well\u001b[39;00m\n\u001b[1;32m----> 2\u001b[0m plt\u001b[38;5;241m.\u001b[39mplot(\u001b[43mx\u001b[49m, np\u001b[38;5;241m.\u001b[39mzeros_like(x), \u001b[38;5;124m'\u001b[39m\u001b[38;5;124mk-\u001b[39m\u001b[38;5;124m'\u001b[39m, lw\u001b[38;5;241m=\u001b[39m\u001b[38;5;241m2\u001b[39m)  \u001b[38;5;66;03m# Potential well line\u001b[39;00m\n\u001b[0;32m      3\u001b[0m plt\u001b[38;5;241m.\u001b[39mfill_between(x, \u001b[38;5;241m-\u001b[39mV0, color\u001b[38;5;241m=\u001b[39m\u001b[38;5;124m'\u001b[39m\u001b[38;5;124mlightblue\u001b[39m\u001b[38;5;124m'\u001b[39m, alpha\u001b[38;5;241m=\u001b[39m\u001b[38;5;241m0.5\u001b[39m)  \u001b[38;5;66;03m# Fill the well area\u001b[39;00m\n\u001b[0;32m      5\u001b[0m \u001b[38;5;66;03m# Plot wave functions and energy levels\u001b[39;00m\n",
      "\u001b[1;31mNameError\u001b[0m: name 'x' is not defined"
     ]
    }
   ],
   "source": [
    "# Plot potential well\n",
    "plt.plot(x, np.zeros_like(x), 'k-', lw=2)  # Potential well line\n",
    "plt.fill_between(x, -V0, color='lightblue', alpha=0.5)  # Fill the well area\n",
    "\n",
    "# Plot wave functions and energy levels\n",
    "for n in range(1, num_levels + 1):\n",
    "    y_wave = wave_function(x, L, n, energy_levels[n-1], m, hbar) + energy_levels[n-1]\n",
    "    plt.plot(x, y_wave, label=f'Wave Function n={n}')\n",
    "    plt.axhline(energy_levels[n-1], color='orange', linestyle='--', lw=1)  # Energy level line\n",
    "\n",
    "# Add labels and legends\n",
    "plt.title('Wave Functions and Energy Levels in a One-Dimensional Rectangular Potential Well')\n",
    "plt.xlabel('Position (m)')\n",
    "plt.ylabel('Energy (J)')\n",
    "\n",
    "plt.ylim(-5, max(energy_levels) + 5)\n",
    "plt.axhline(0, color='black', lw=0.5)\n",
    "plt.axhline(V0, color='red', linestyle='--', label='Potential Barrier')\n",
    "plt.legend()\n",
    "plt.grid()\n",
    "plt.show()"
   ]
  },
  {
   "cell_type": "code",
   "execution_count": null,
   "metadata": {},
   "outputs": [],
   "source": [
    "# method of "
   ]
  },
  {
   "cell_type": "code",
   "execution_count": null,
   "metadata": {},
   "outputs": [
    {
     "name": "stderr",
     "output_type": "stream",
     "text": [
      "C:\\Users\\belco\\AppData\\Local\\Temp\\ipykernel_2352\\2199774195.py:9: RuntimeWarning: invalid value encountered in sqrt\n",
      "  return np.tan(k * L) - (k * hbar / np.sqrt(2 * m * V0 - 2 * m * E))\n",
      "C:\\Users\\belco\\AppData\\Local\\Temp\\ipykernel_2352\\2199774195.py:15: RuntimeWarning: invalid value encountered in sqrt\n",
      "  return (L / np.cos(k * L)**2) * dk_dE - (hbar / np.sqrt(2 * m * V0 - 2 * m * E))\n",
      "C:\\Users\\belco\\AppData\\Local\\Temp\\ipykernel_2352\\2199774195.py:8: RuntimeWarning: invalid value encountered in sqrt\n",
      "  k = np.sqrt(2 * m * E) / hbar\n",
      "C:\\Users\\belco\\AppData\\Local\\Temp\\ipykernel_2352\\2199774195.py:13: RuntimeWarning: invalid value encountered in sqrt\n",
      "  k = np.sqrt(2 * m * E) / hbar\n",
      "C:\\Users\\belco\\AppData\\Local\\Temp\\ipykernel_2352\\2199774195.py:14: RuntimeWarning: invalid value encountered in sqrt\n",
      "  dk_dE = hbar / (2 * np.sqrt(2 * m * E))\n"
     ]
    },
    {
     "ename": "ValueError",
     "evalue": "max() arg is an empty sequence",
     "output_type": "error",
     "traceback": [
      "\u001b[1;31m---------------------------------------------------------------------------\u001b[0m",
      "\u001b[1;31mValueError\u001b[0m                                Traceback (most recent call last)",
      "Input \u001b[1;32mIn [13]\u001b[0m, in \u001b[0;36m<cell line: 55>\u001b[1;34m()\u001b[0m\n\u001b[0;32m     53\u001b[0m plt\u001b[38;5;241m.\u001b[39mlegend()\n\u001b[0;32m     54\u001b[0m plt\u001b[38;5;241m.\u001b[39mgrid()\n\u001b[1;32m---> 55\u001b[0m plt\u001b[38;5;241m.\u001b[39mxlim(\u001b[38;5;241m0\u001b[39m, \u001b[38;5;28;43mmax\u001b[39;49m\u001b[43m(\u001b[49m\u001b[43menergy_levels_eV\u001b[49m\u001b[43m)\u001b[49m \u001b[38;5;241m+\u001b[39m \u001b[38;5;241m1\u001b[39m)\n\u001b[0;32m     56\u001b[0m plt\u001b[38;5;241m.\u001b[39mshow()\n\u001b[0;32m     58\u001b[0m \u001b[38;5;28mprint\u001b[39m(\u001b[38;5;124m\"\u001b[39m\u001b[38;5;124mEnergy Levels (in eV):\u001b[39m\u001b[38;5;124m\"\u001b[39m, energy_levels_eV)\n",
      "\u001b[1;31mValueError\u001b[0m: max() arg is an empty sequence"
     ]
    },
    {
     "data": {
      "image/png": "[encoded data removed]",
      "text/plain": [
       "<Figure size 720x432 with 1 Axes>"
      ]
     },
     "metadata": {
      "needs_background": "light"
     },
     "output_type": "display_data"
    }
   ],
   "source": [
    "m = 9.11e-31 \n",
    "hbar = 1.055e-34  \n",
    "V0 = 1.0e-18\n",
    "L = 1e-10  \n",
    "\n",
    "# function of equation\n",
    "def f(E):\n",
    "    k = np.sqrt(2 * m * E) / hbar\n",
    "    return np.tan(k * L) - (k * hbar / np.sqrt(2 * m * V0 - 2 * m * E))\n",
    "\n",
    "# derivative of the function\n",
    "def df(E):\n",
    "    k = np.sqrt(2 * m * E) / hbar\n",
    "    dk_dE = hbar / (2 * np.sqrt(2 * m * E))\n",
    "    return (L / np.cos(k * L)**2) * dk_dE - (hbar / np.sqrt(2 * m * V0 - 2 * m * E))\n",
    "\n",
    "# Newton method\n",
    "def newton(initial_guess, tol=1e-10, max_iter=100):\n",
    "    E = initial_guess\n",
    "    for _ in range(max_iter):\n",
    "        f_E = f(E)\n",
    "        f_prime_E = df(E)\n",
    "        if abs(f_prime_E) < tol:  # Avoid division by zero\n",
    "            break\n",
    "        E_new = E - f_E / f_prime_E\n",
    "        if abs(E_new - E) < tol:  # Convergence check\n",
    "            return E_new    \n",
    "        E = E_new\n",
    "    return None  \n",
    "\n",
    "# Finding energy levels\n",
    "energy_levels = []\n",
    "initial_guesses = np.linspace(1e-19, V0 - 1e-19, 20)  # Initial guess\n",
    "\n",
    "for guess in initial_guesses:\n",
    "    energy = newton(guess)\n",
    "    if energy is not None and energy > 0 and energy not in energy_levels:\n",
    "        # Check if tan(kL) > 0 \n",
    "        k = np.sqrt(2 * m * energy) / hbar\n",
    "        if np.tan(k * L) > 0:\n",
    "            energy_levels.append(energy)\n",
    "\n",
    "# Convert energy levels from Joules to electronvolts\n",
    "energy_levels_eV = [E / 1.6e-19 for E in energy_levels]\n",
    "\n",
    "# Visualization\n",
    "plt.figure(figsize=(10, 6))\n",
    "plt.plot(energy_levels_eV, np.zeros_like(energy_levels_eV), 'ro', label='Energy Levels')\n",
    "plt.axhline(0, color='black', lw=0.5, ls='--')\n",
    "plt.title('Energy Levels in a 1D Rectangular Potential Well')\n",
    "plt.xlabel('Energy (eV)')\n",
    "plt.yticks([])  \n",
    "plt.legend()\n",
    "plt.grid()\n",
    "plt.xlim(0, max(energy_levels_eV) + 1)\n",
    "plt.show()\n",
    "\n",
    "print(\"Energy Levels (in eV):\", energy_levels_eV)"
   ]
  },
  {
   "cell_type": "code",
   "execution_count": null,
   "metadata": {},
   "outputs": [],
   "source": []
  }
 ],
 "metadata": {
  "kernelspec": {
   "display_name": "myenv",
   "language": "python",
   "name": "python3"
  },
  "language_info": {
   "codemirror_mode": {
    "name": "ipython",
    "version": 3
   },
   "file_extension": ".py",
   "mimetype": "text/x-python",
   "name": "python",
   "nbconvert_exporter": "python",
   "pygments_lexer": "ipython3",
   "version": "3.10.4"
  }
 },
 "nbformat": 4,
 "nbformat_minor": 2
}
