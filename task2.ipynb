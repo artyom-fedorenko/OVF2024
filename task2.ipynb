{
 "cells": [
  {
   "cell_type": "code",
   "execution_count": 1,
   "id": "78751fa9",
   "metadata": {},
   "outputs": [],
   "source": [
    "import numpy as np\n",
    "from matplotlib import pyplot as plt"
   ]
  },
  {
   "cell_type": "code",
   "execution_count": 2,
   "id": "0565a4d2",
   "metadata": {},
   "outputs": [],
   "source": [
    "#np.seterr(divide='ignore'); # ignore division by zero\n",
    "plt.rcParams[\"figure.figsize\"] = (5,5)\n",
    "plt.rcParams['figure.dpi'] = 100 # resolution"
   ]
  },
  {
   "cell_type": "markdown",
   "id": "2db290b1",
   "metadata": {},
   "source": [
    "### Equation of the form f(E)=0, where E<0 is energy in main state for the problem where the particle is in a rectangular potential well of size [-a, a] and potential -|U0|"
   ]
  },
  {
   "cell_type": "code",
   "execution_count": 3,
   "id": "763ba2ef",
   "metadata": {},
   "outputs": [],
   "source": [
    "a = 3\n",
    "U0 = 3\n",
    "E0 = -0.95\n",
    "precision=10e-9"
   ]
  },
  {
   "cell_type": "markdown",
   "id": "33833676",
   "metadata": {},
   "source": [
    "$f(\\zeta) = \\cot \\sqrt{2a^2U_0 * (1-\\zeta )} - \\sqrt{\\frac{1}{\\zeta}-1}=0$,  \n",
    "where $\\zeta = |E/U0|$"
   ]
  },
  {
   "cell_type": "code",
   "execution_count": 4,
   "id": "cf6e9c65",
   "metadata": {},
   "outputs": [],
   "source": [
    "# original function\n",
    "def f(E):\n",
    "    return (1/np.tan(np.sqrt(2 * a**2 * U0 * (1 + E/U0)))) - np.sqrt((-U0/E) - 1) "
   ]
  },
  {
   "cell_type": "code",
   "execution_count": 5,
   "id": "d26f424a",
   "metadata": {},
   "outputs": [],
   "source": [
    "# derivative of original function\n",
    "def df(E):\n",
    "    return - (a ** 2) / ((np.sin(np.sqrt(2 * a * a * U0 * (1 + E/U0))) ** 2) * np.sqrt(2 * a * a * U0 * (1 + E/U0)))\\\n",
    "           - (U0/2)/(E**2*((-U0/E) - 1))      "
   ]
  },
  {
   "cell_type": "markdown",
   "id": "f5a0f4a1",
   "metadata": {},
   "source": [
    "*Let's find out the estimation to main state energy by:* $\\cot \\sqrt{2a^2U_0 * (1-\\zeta )}=0$  \n",
    "\\\n",
    "$\\cot \\sqrt{2a^2U_0 * (1-\\zeta )}=0$ \\\n",
    "\\\n",
    "$\\sqrt{2a^2U_0 * (1-\\zeta )} = \\frac{\\pi}{2} + \\pi n$ ($n=0$ *because of main state*)\n",
    "\\\n",
    "...\n",
    "\\\n",
    "$E=\\frac{\\pi^2}{8a^2} - U_0$ – our estimation to main state"
   ]
  },
  {
   "cell_type": "code",
   "execution_count": 6,
   "id": "8ede6a8b",
   "metadata": {},
   "outputs": [
    {
     "name": "stderr",
     "output_type": "stream",
     "text": [
      "C:\\Users\\belco\\AppData\\Local\\Temp\\ipykernel_17224\\929531610.py:3: RuntimeWarning: divide by zero encountered in divide\n",
      "  return (1/np.tan(np.sqrt(2 * a**2 * U0 * (1 + E/U0)))) - np.sqrt((-U0/E) - 1)\n"
     ]
    },
    {
     "data": {
      "image/png": "[encoded data removed]",
      "text/plain": [
       "<Figure size 432x288 with 1 Axes>"
      ]
     },
     "metadata": {
      "needs_background": "light"
     },
     "output_type": "display_data"
    }
   ],
   "source": [
    "dom = np.linspace(-U0, -0.0, 10000)\n",
    "val = f(dom)\n",
    "plt.xlabel(\"E (Energy)\")\n",
    "plt.ylabel(\"f(E)\")\n",
    "plt.ylim([-10, 10])\n",
    "plt.hlines(0, xmin=-U0, xmax=0, colors='k')\n",
    "plt.vlines(min(0, np.pi**2/(8*a*a)-U0), ymin=-10, ymax=10, colors='red', linestyles='--', label='Estimation to original rule') #red line - initial E\n",
    "plt.plot(dom, val)\n",
    "plt.grid()\n",
    "plt.legend(loc='lower left')\n",
    "plt.show()"
   ]
  },
  {
   "cell_type": "markdown",
   "id": "ce95c2c2",
   "metadata": {},
   "source": [
    "# Dichotomy"
   ]
  },
  {
   "cell_type": "code",
   "execution_count": 7,
   "id": "cea59cb6",
   "metadata": {},
   "outputs": [],
   "source": [
    "def dichotomy(a, b, counterDichotomy=0, error=precision):\n",
    "    middle = (a + b) / 2\n",
    "    curError = (b - a) / 2\n",
    "    if curError < error:\n",
    "        print(\"Deep of recursion in Dichotomy: {}\".format(counterDichotomy))\n",
    "        return middle\n",
    "    counterDichotomy += 1\n",
    "    return dichotomy(a, middle, counterDichotomy) if f(middle) * f(a) <= 0 else dichotomy(middle, b, counterDichotomy)"
   ]
  },
  {
   "cell_type": "markdown",
   "id": "07bcc447",
   "metadata": {},
   "source": [
    "*As we show above energy of main state gonna be in ($-U_0$, $\\frac{\\pi^2}{8a^2} - U_0$)*"
   ]
  },
  {
   "cell_type": "code",
   "execution_count": 8,
   "id": "082cf178",
   "metadata": {},
   "outputs": [
    {
     "name": "stdout",
     "output_type": "stream",
     "text": [
      "Deep of recursion in Dichotomy: 23\n",
      "Dichotomy root: -2.893946610104318\n",
      "f(-2.893946610104318) = 2.854129663165672e-08\n"
     ]
    },
    {
     "name": "stderr",
     "output_type": "stream",
     "text": [
      "C:\\Users\\belco\\AppData\\Local\\Temp\\ipykernel_17224\\929531610.py:3: RuntimeWarning: divide by zero encountered in double_scalars\n",
      "  return (1/np.tan(np.sqrt(2 * a**2 * U0 * (1 + E/U0)))) - np.sqrt((-U0/E) - 1)\n"
     ]
    }
   ],
   "source": [
    "dichotomyRoot = dichotomy(-U0, min(0, np.pi**2/(8*a*a)-U0), error=1e-10)\n",
    "print('Dichotomy root: {}'.format(dichotomyRoot))\n",
    "print('f({}) = {}'.format(dichotomyRoot, f(dichotomyRoot)))"
   ]
  },
  {
   "cell_type": "markdown",
   "id": "c0799fbf",
   "metadata": {},
   "source": [
    "which almost zero :)"
   ]
  },
  {
   "cell_type": "markdown",
   "id": "87201b89",
   "metadata": {},
   "source": [
    "# Simple Iteration"
   ]
  },
  {
   "cell_type": "code",
   "execution_count": 9,
   "id": "46860b68",
   "metadata": {},
   "outputs": [],
   "source": [
    "_lambda = 1 / df(np.pi**2/(8*a**2)-U0) #\n",
    "def fixedPointIteration(x, counterIter=0, error=precision):\n",
    "    value = - _lambda * f(x)\n",
    "    curError = np.abs(dichotomyRoot - x)\n",
    "    if curError < error:\n",
    "        print(\"Deep of recursion in SI: {}\".format(counterIter))\n",
    "        return x\n",
    "    counterIter += 1\n",
    "    return fixedPointIteration(x + value, counterIter)"
   ]
  },
  {
   "cell_type": "code",
   "execution_count": 10,
   "id": "6e9bc76c",
   "metadata": {},
   "outputs": [
    {
     "name": "stdout",
     "output_type": "stream",
     "text": [
      "Deep of recursion in SI: 10\n",
      "Fixed Point Iteration root: -2.893946602600548\n",
      "f(-2.893946602600548) = -2.9149665875527475e-08\n"
     ]
    }
   ],
   "source": [
    "fixPointIterRoot = fixedPointIteration(min(0, np.pi**2/(8*a*a)-U0))\n",
    "print('Fixed Point Iteration root: {}'.format(fixPointIterRoot))\n",
    "print('f({}) = {}'.format(fixPointIterRoot, f(fixPointIterRoot)))"
   ]
  },
  {
   "cell_type": "markdown",
   "id": "68fa99fd",
   "metadata": {},
   "source": [
    "# Newton's Method"
   ]
  },
  {
   "cell_type": "code",
   "execution_count": 11,
   "id": "77e8e86d",
   "metadata": {},
   "outputs": [],
   "source": [
    "def Newton(x, counterNewton=0, error=precision):\n",
    "    value = f(x) / df(x)\n",
    "    curError = np.abs(fixPointIterRoot - x)\n",
    "    if curError < error:\n",
    "        print(\"Deep of recursion in NM: {}\".format(counterNewton))\n",
    "        return x\n",
    "    counterNewton += 1\n",
    "    return Newton(x - value, counterNewton)"
   ]
  },
  {
   "cell_type": "code",
   "execution_count": 12,
   "id": "7f7e9d5d",
   "metadata": {},
   "outputs": [
    {
     "name": "stdout",
     "output_type": "stream",
     "text": [
      "Deep of recursion in NM: 14\n",
      "Newton's root: -2.8939466005792753\n",
      "f(-2.8939466005792753) = -4.4689741379722037e-08\n"
     ]
    }
   ],
   "source": [
    "newtonRoot = Newton(min(0.1, np.pi**2/(8*a*a)-U0))\n",
    "print('Newton\\'s root: {}'.format(newtonRoot))\n",
    "print('f({}) = {}'.format(newtonRoot, f(newtonRoot)))"
   ]
  },
  {
   "cell_type": "markdown",
   "id": "6551b8f0",
   "metadata": {},
   "source": [
    " *in FPI method we use static derivative instead of dynamic derivative such in Newton's method and it converges to root faster than FPI*"
   ]
  },
  {
   "cell_type": "code",
   "execution_count": 13,
   "id": "3e3d3b88",
   "metadata": {},
   "outputs": [
    {
     "data": {
      "text/plain": [
       "numpy.float64"
      ]
     },
     "execution_count": 13,
     "metadata": {},
     "output_type": "execute_result"
    }
   ],
   "source": [
    "type(newtonRoot)"
   ]
  },
  {
   "cell_type": "code",
   "execution_count": null,
   "id": "42ae2b39",
   "metadata": {},
   "outputs": [],
   "source": []
  },
  {
   "cell_type": "code",
   "execution_count": null,
   "id": "504ade1b",
   "metadata": {},
   "outputs": [],
   "source": []
  }
 ],
 "metadata": {
  "kernelspec": {
   "display_name": "myenv",
   "language": "python",
   "name": "python3"
  },
  "language_info": {
   "codemirror_mode": {
    "name": "ipython",
    "version": 3
   },
   "file_extension": ".py",
   "mimetype": "text/x-python",
   "name": "python",
   "nbconvert_exporter": "python",
   "pygments_lexer": "ipython3",
   "version": "3.10.4"
  }
 },
 "nbformat": 4,
 "nbformat_minor": 5
}
